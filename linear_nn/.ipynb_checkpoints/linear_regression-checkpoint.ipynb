{
 "cells": [
  {
   "cell_type": "code",
   "execution_count": 1,
   "id": "b7a2d23c-dcc1-493e-b98b-bb49d03a1b7d",
   "metadata": {},
   "outputs": [],
   "source": [
    "%matplotlib inline\n",
    "import math\n",
    "import time\n",
    "from jax import numpy as jnp\n",
    "import jax"
   ]
  },
  {
   "cell_type": "markdown",
   "id": "d0843f9d-6981-4610-b893-2e3d1865cebe",
   "metadata": {},
   "source": [
    "## Basics"
   ]
  },
  {
   "cell_type": "code",
   "execution_count": 2,
   "id": "ab990d42-1176-419c-93b0-b943a353b2d6",
   "metadata": {},
   "outputs": [],
   "source": [
    "n = 10000"
   ]
  },
  {
   "cell_type": "code",
   "execution_count": 3,
   "id": "9cb0b63a-765f-404e-ba3c-27bff9d536d2",
   "metadata": {},
   "outputs": [],
   "source": [
    "a = jnp.ones(n)\n",
    "b = jnp.ones(n)"
   ]
  },
  {
   "cell_type": "code",
   "execution_count": 4,
   "id": "4956ca08-0f3e-4647-ae43-d479a637dc06",
   "metadata": {},
   "outputs": [],
   "source": [
    "c = jnp.zeros(n)"
   ]
  },
  {
   "cell_type": "code",
   "execution_count": 5,
   "id": "ea149e23-4c52-4b65-bfd1-6d4bbcbad593",
   "metadata": {},
   "outputs": [
    {
     "data": {
      "text/plain": [
       "'16.98429 sec'"
      ]
     },
     "execution_count": 5,
     "metadata": {},
     "output_type": "execute_result"
    }
   ],
   "source": [
    "t=time.time()\n",
    "for i in range(n):\n",
    "    c = c.at[i].set(a[i]+b[i])\n",
    "f'{time.time() - t:.5f} sec'"
   ]
  },
  {
   "cell_type": "code",
   "execution_count": 6,
   "id": "012a9751-1192-4b63-8f22-8f375205b05c",
   "metadata": {},
   "outputs": [
    {
     "data": {
      "text/plain": [
       "'0.02515 sec'"
      ]
     },
     "execution_count": 6,
     "metadata": {},
     "output_type": "execute_result"
    }
   ],
   "source": [
    "t = time.time()\n",
    "d = a + b\n",
    "f'{time.time() - t:.5f} sec'"
   ]
  },
  {
   "cell_type": "code",
   "execution_count": null,
   "id": "55dd59c3-5436-4d31-9448-71d633032aa0",
   "metadata": {},
   "outputs": [],
   "source": []
  }
 ],
 "metadata": {
  "kernelspec": {
   "display_name": "Python 3 (ipykernel)",
   "language": "python",
   "name": "python3"
  },
  "language_info": {
   "codemirror_mode": {
    "name": "ipython",
    "version": 3
   },
   "file_extension": ".py",
   "mimetype": "text/x-python",
   "name": "python",
   "nbconvert_exporter": "python",
   "pygments_lexer": "ipython3",
   "version": "3.12.5"
  }
 },
 "nbformat": 4,
 "nbformat_minor": 5
}
