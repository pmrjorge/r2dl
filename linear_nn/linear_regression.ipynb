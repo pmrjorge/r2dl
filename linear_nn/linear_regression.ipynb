{
 "cells": [
  {
   "cell_type": "code",
   "execution_count": 8,
   "id": "b7a2d23c-dcc1-493e-b98b-bb49d03a1b7d",
   "metadata": {},
   "outputs": [],
   "source": [
    "%matplotlib inline\n",
    "import math\n",
    "import time\n",
    "from jax import numpy as jnp\n",
    "import jax\n",
    "import matplotlib.pyplot as plt"
   ]
  },
  {
   "cell_type": "markdown",
   "id": "d0843f9d-6981-4610-b893-2e3d1865cebe",
   "metadata": {},
   "source": [
    "## Basics"
   ]
  },
  {
   "cell_type": "code",
   "execution_count": 2,
   "id": "ab990d42-1176-419c-93b0-b943a353b2d6",
   "metadata": {},
   "outputs": [],
   "source": [
    "n = 10000"
   ]
  },
  {
   "cell_type": "code",
   "execution_count": 3,
   "id": "9cb0b63a-765f-404e-ba3c-27bff9d536d2",
   "metadata": {},
   "outputs": [],
   "source": [
    "a = jnp.ones(n)\n",
    "b = jnp.ones(n)"
   ]
  },
  {
   "cell_type": "code",
   "execution_count": 4,
   "id": "4956ca08-0f3e-4647-ae43-d479a637dc06",
   "metadata": {},
   "outputs": [],
   "source": [
    "c = jnp.zeros(n)"
   ]
  },
  {
   "cell_type": "code",
   "execution_count": 5,
   "id": "ea149e23-4c52-4b65-bfd1-6d4bbcbad593",
   "metadata": {},
   "outputs": [
    {
     "data": {
      "text/plain": [
       "'8.21944 sec'"
      ]
     },
     "execution_count": 5,
     "metadata": {},
     "output_type": "execute_result"
    }
   ],
   "source": [
    "t=time.time()\n",
    "for i in range(n):\n",
    "    c = c.at[i].set(a[i]+b[i])\n",
    "f'{time.time() - t:.5f} sec'"
   ]
  },
  {
   "cell_type": "code",
   "execution_count": 6,
   "id": "012a9751-1192-4b63-8f22-8f375205b05c",
   "metadata": {},
   "outputs": [
    {
     "data": {
      "text/plain": [
       "'0.02186 sec'"
      ]
     },
     "execution_count": 6,
     "metadata": {},
     "output_type": "execute_result"
    }
   ],
   "source": [
    "t = time.time()\n",
    "d = a + b\n",
    "f'{time.time() - t:.5f} sec'"
   ]
  },
  {
   "cell_type": "markdown",
   "id": "82af74d0-b648-4c87-849a-a04d63d72994",
   "metadata": {},
   "source": [
    "## The Normal Distribution and Squared Loss"
   ]
  },
  {
   "cell_type": "code",
   "execution_count": 7,
   "id": "086b99ac-99c8-4ab9-85d7-6bb5acdf66c6",
   "metadata": {},
   "outputs": [],
   "source": [
    "def normal(x, mu, sigma):\n",
    "    p = 1 / math.sqrt(2 * math.pi * sigma**2)\n",
    "    return p * jnp.exp(-0.5 * (x-mu)**2 / sigma**2)"
   ]
  },
  {
   "cell_type": "code",
   "execution_count": 14,
   "id": "08735e7f-d018-4ff9-b6dd-1d810ea0ef78",
   "metadata": {},
   "outputs": [],
   "source": [
    "##TODO"
   ]
  },
  {
   "cell_type": "code",
   "execution_count": null,
   "id": "00118bc5-5d42-4497-81d5-46c6e69aa57a",
   "metadata": {},
   "outputs": [],
   "source": []
  }
 ],
 "metadata": {
  "kernelspec": {
   "display_name": "Python 3 (ipykernel)",
   "language": "python",
   "name": "python3"
  },
  "language_info": {
   "codemirror_mode": {
    "name": "ipython",
    "version": 3
   },
   "file_extension": ".py",
   "mimetype": "text/x-python",
   "name": "python",
   "nbconvert_exporter": "python",
   "pygments_lexer": "ipython3",
   "version": "3.12.7"
  }
 },
 "nbformat": 4,
 "nbformat_minor": 5
}
