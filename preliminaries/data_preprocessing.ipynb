{
 "cells": [
  {
   "cell_type": "code",
   "execution_count": 1,
   "id": "9ca20db7-7078-42b5-be38-7126bef04b5a",
   "metadata": {},
   "outputs": [],
   "source": [
    "import os"
   ]
  },
  {
   "cell_type": "code",
   "execution_count": 2,
   "id": "2035c55a-e481-4de6-8e20-38d120525512",
   "metadata": {},
   "outputs": [],
   "source": [
    "os.makedirs(os.path.join('..','data'), exist_ok=True)\n",
    "data_file = os.path.join('..','data','house_tiny.csv')"
   ]
  },
  {
   "cell_type": "code",
   "execution_count": 3,
   "id": "1be68d05-d4ad-417b-9581-38a3a50d3108",
   "metadata": {},
   "outputs": [],
   "source": [
    "with open(data_file, 'w') as f:\n",
    "    f.write('''NumRooms,RoofType,Price\n",
    "    NA,NA,127500\n",
    "    2,NA,106000\n",
    "    4,Slate,178100\n",
    "    NA,NA,140000''')"
   ]
  },
  {
   "cell_type": "code",
   "execution_count": 4,
   "id": "b58cd184-d5f2-46c3-a778-66a0e66b4665",
   "metadata": {},
   "outputs": [],
   "source": [
    "import pandas as pd"
   ]
  },
  {
   "cell_type": "code",
   "execution_count": 5,
   "id": "18e6045a-f459-4b81-b115-bae4a745961d",
   "metadata": {},
   "outputs": [
    {
     "name": "stdout",
     "output_type": "stream",
     "text": [
      "  NumRooms RoofType   Price\n",
      "0       NA      NaN  127500\n",
      "1        2      NaN  106000\n",
      "2        4    Slate  178100\n",
      "3       NA      NaN  140000\n"
     ]
    }
   ],
   "source": [
    "data = pd.read_csv(data_file)\n",
    "print(data)"
   ]
  },
  {
   "cell_type": "markdown",
   "id": "267ee6a2-aaff-4694-9101-c619eab236f0",
   "metadata": {},
   "source": [
    "## Data Preparation"
   ]
  },
  {
   "cell_type": "code",
   "execution_count": 18,
   "id": "9f66a56f-3bbc-4aff-a994-bb7b63ee943a",
   "metadata": {},
   "outputs": [
    {
     "name": "stdout",
     "output_type": "stream",
     "text": [
      "   NumRooms_    2  NumRooms_    4  NumRooms_    NA  NumRooms_nan  \\\n",
      "0           False           False             True         False   \n",
      "1            True           False            False         False   \n",
      "2           False            True            False         False   \n",
      "3           False           False             True         False   \n",
      "\n",
      "   RoofType_Slate  RoofType_nan  \n",
      "0           False          True  \n",
      "1           False          True  \n",
      "2            True         False  \n",
      "3           False          True  \n"
     ]
    }
   ],
   "source": [
    "inputs, targets = data.iloc[:, 0:2], data.iloc[:, 2]\n",
    "inputs = pd.get_dummies(inputs, dummy_na=True)\n",
    "print(inputs)"
   ]
  },
  {
   "cell_type": "code",
   "execution_count": 25,
   "id": "68839de8-f280-46ec-ac60-a80369371153",
   "metadata": {},
   "outputs": [
    {
     "name": "stdout",
     "output_type": "stream",
     "text": [
      "   NumRooms_    2  NumRooms_    4  NumRooms_    NA  NumRooms_nan  \\\n",
      "0           False           False             True         False   \n",
      "1            True           False            False         False   \n",
      "2           False            True            False         False   \n",
      "3           False           False             True         False   \n",
      "\n",
      "   RoofType_Slate  RoofType_nan  \n",
      "0           False          True  \n",
      "1           False          True  \n",
      "2            True         False  \n",
      "3           False          True  \n"
     ]
    }
   ],
   "source": [
    "inputs = inputs.fillna(inputs.mean())\n",
    "print(inputs)"
   ]
  },
  {
   "cell_type": "markdown",
   "id": "fa12844d-6edc-4ff5-8b12-b5d0e851fece",
   "metadata": {},
   "source": [
    "## Conversion to tensor format"
   ]
  },
  {
   "cell_type": "code",
   "execution_count": 19,
   "id": "fc8c3b62-b9b3-4bd4-a0b3-5608f2d5b3ca",
   "metadata": {},
   "outputs": [],
   "source": [
    "from jax import numpy as jnp"
   ]
  },
  {
   "cell_type": "code",
   "execution_count": 26,
   "id": "a695ba24-8499-4766-994b-637a8c3b4b4b",
   "metadata": {},
   "outputs": [
    {
     "data": {
      "text/plain": [
       "(Array([[0., 0., 1., 0., 0., 1.],\n",
       "        [1., 0., 0., 0., 0., 1.],\n",
       "        [0., 1., 0., 0., 1., 0.],\n",
       "        [0., 0., 1., 0., 0., 1.]], dtype=float32),\n",
       " Array([127500., 106000., 178100., 140000.], dtype=float32))"
      ]
     },
     "execution_count": 26,
     "metadata": {},
     "output_type": "execute_result"
    }
   ],
   "source": [
    "X = jnp.array(inputs.to_numpy(dtype=float))\n",
    "y = jnp.array(targets.to_numpy(dtype=float))\n",
    "X, y"
   ]
  },
  {
   "cell_type": "code",
   "execution_count": null,
   "id": "90902660-3e05-4825-ab47-c6970fdf2676",
   "metadata": {},
   "outputs": [],
   "source": []
  }
 ],
 "metadata": {
  "kernelspec": {
   "display_name": "Python 3 (ipykernel)",
   "language": "python",
   "name": "python3"
  },
  "language_info": {
   "codemirror_mode": {
    "name": "ipython",
    "version": 3
   },
   "file_extension": ".py",
   "mimetype": "text/x-python",
   "name": "python",
   "nbconvert_exporter": "python",
   "pygments_lexer": "ipython3",
   "version": "3.12.5"
  }
 },
 "nbformat": 4,
 "nbformat_minor": 5
}
