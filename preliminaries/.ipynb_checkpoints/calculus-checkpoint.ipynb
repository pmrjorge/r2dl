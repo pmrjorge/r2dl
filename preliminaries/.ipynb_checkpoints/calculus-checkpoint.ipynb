{
 "cells": [
  {
   "cell_type": "code",
   "execution_count": 4,
   "id": "da012f11-963b-49e0-a912-32dab54a4551",
   "metadata": {},
   "outputs": [],
   "source": [
    "%matplotlib inline\n",
    "import numpy as np\n",
    "from matplotlib_inline import backend_inline\n",
    "import jax as d2l"
   ]
  },
  {
   "cell_type": "markdown",
   "id": "195b56ea-0310-468a-a67f-f67cd2eb283c",
   "metadata": {},
   "source": [
    "## Derivatives and Differentiation"
   ]
  },
  {
   "cell_type": "code",
   "execution_count": null,
   "id": "c5da58d7-b83e-4984-b68e-e6076c3e9ac5",
   "metadata": {},
   "outputs": [],
   "source": []
  },
  {
   "cell_type": "code",
   "execution_count": null,
   "id": "fe411a4a-e6d2-4c06-98de-e9ac54c4e78b",
   "metadata": {},
   "outputs": [],
   "source": []
  }
 ],
 "metadata": {
  "kernelspec": {
   "display_name": "Python 3 (ipykernel)",
   "language": "python",
   "name": "python3"
  },
  "language_info": {
   "codemirror_mode": {
    "name": "ipython",
    "version": 3
   },
   "file_extension": ".py",
   "mimetype": "text/x-python",
   "name": "python",
   "nbconvert_exporter": "python",
   "pygments_lexer": "ipython3",
   "version": "3.12.5"
  }
 },
 "nbformat": 4,
 "nbformat_minor": 5
}
