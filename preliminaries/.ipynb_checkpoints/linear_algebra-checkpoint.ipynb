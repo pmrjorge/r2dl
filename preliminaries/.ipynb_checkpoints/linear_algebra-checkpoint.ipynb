{
 "cells": [
  {
   "cell_type": "code",
   "execution_count": 1,
   "id": "86541417-76d3-476b-9305-78c3b907ccb5",
   "metadata": {},
   "outputs": [],
   "source": [
    "from jax import numpy as jnp"
   ]
  },
  {
   "cell_type": "markdown",
   "id": "b95729cd-412e-4a46-98eb-3e08e92f75fa",
   "metadata": {},
   "source": [
    "## Scalars"
   ]
  },
  {
   "cell_type": "code",
   "execution_count": 2,
   "id": "96233d69-9518-4637-b1f3-ae83b0e6a5d1",
   "metadata": {},
   "outputs": [
    {
     "data": {
      "text/plain": [
       "(Array(5., dtype=float32, weak_type=True),\n",
       " Array(6., dtype=float32, weak_type=True),\n",
       " Array(1.5, dtype=float32, weak_type=True),\n",
       " Array(9., dtype=float32, weak_type=True))"
      ]
     },
     "execution_count": 2,
     "metadata": {},
     "output_type": "execute_result"
    }
   ],
   "source": [
    "x = jnp.array(3.0)\n",
    "y = jnp.array(2.0)\n",
    "\n",
    "x+y, x*y, x/y, x**y"
   ]
  },
  {
   "cell_type": "markdown",
   "id": "2021515b-c516-42cf-a3f6-6d945bc0235e",
   "metadata": {},
   "source": [
    "## Vectors"
   ]
  },
  {
   "cell_type": "code",
   "execution_count": 3,
   "id": "7f51c8ca-c373-4134-ad15-25e50fe3be84",
   "metadata": {},
   "outputs": [
    {
     "data": {
      "text/plain": [
       "Array([0, 1, 2], dtype=int32)"
      ]
     },
     "execution_count": 3,
     "metadata": {},
     "output_type": "execute_result"
    }
   ],
   "source": [
    "x = jnp.arange(3)\n",
    "x"
   ]
  },
  {
   "cell_type": "code",
   "execution_count": 4,
   "id": "509e58c9-a1e9-4911-8ebb-e628ccb5b900",
   "metadata": {},
   "outputs": [
    {
     "data": {
      "text/plain": [
       "Array(2, dtype=int32)"
      ]
     },
     "execution_count": 4,
     "metadata": {},
     "output_type": "execute_result"
    }
   ],
   "source": [
    "x[2]"
   ]
  },
  {
   "cell_type": "code",
   "execution_count": 7,
   "id": "47014ffa-5520-42cd-9b05-f826a23abf62",
   "metadata": {},
   "outputs": [
    {
     "data": {
      "text/plain": [
       "(3, 3, (3,))"
      ]
     },
     "execution_count": 7,
     "metadata": {},
     "output_type": "execute_result"
    }
   ],
   "source": [
    "len(x), x.size, x.shape"
   ]
  },
  {
   "cell_type": "markdown",
   "id": "8da5984d-4fe5-44f3-97d6-08edc8ebc897",
   "metadata": {},
   "source": [
    "## Matrices"
   ]
  },
  {
   "cell_type": "code",
   "execution_count": 8,
   "id": "e2e05d66-755d-43e9-869b-f0e912329ed4",
   "metadata": {},
   "outputs": [],
   "source": [
    "A = jnp.arange(6).reshape(3,2)"
   ]
  },
  {
   "cell_type": "code",
   "execution_count": 9,
   "id": "53ef37bd-d341-4943-a1be-a774dd77b688",
   "metadata": {},
   "outputs": [
    {
     "data": {
      "text/plain": [
       "Array([[0, 1],\n",
       "       [2, 3],\n",
       "       [4, 5]], dtype=int32)"
      ]
     },
     "execution_count": 9,
     "metadata": {},
     "output_type": "execute_result"
    }
   ],
   "source": [
    "A"
   ]
  },
  {
   "cell_type": "code",
   "execution_count": 10,
   "id": "0a4f6759-8f26-4890-9106-d11631eba0b7",
   "metadata": {},
   "outputs": [
    {
     "data": {
      "text/plain": [
       "Array([[0, 2, 4],\n",
       "       [1, 3, 5]], dtype=int32)"
      ]
     },
     "execution_count": 10,
     "metadata": {},
     "output_type": "execute_result"
    }
   ],
   "source": [
    "A.T"
   ]
  },
  {
   "cell_type": "code",
   "execution_count": 11,
   "id": "38d149f7-0a90-40cb-bcef-6604651538cb",
   "metadata": {},
   "outputs": [
    {
     "data": {
      "text/plain": [
       "Array([[ True,  True,  True],\n",
       "       [ True,  True,  True],\n",
       "       [ True,  True,  True]], dtype=bool)"
      ]
     },
     "execution_count": 11,
     "metadata": {},
     "output_type": "execute_result"
    }
   ],
   "source": [
    "# Symmetric matrix\n",
    "A = jnp.array([[1,2,3],[2,0,4],[3,4,5]])\n",
    "A == A.T"
   ]
  },
  {
   "cell_type": "markdown",
   "id": "caa7b495-506e-4357-98ed-6f8dfb1255a1",
   "metadata": {},
   "source": [
    "## Tensors - order>2"
   ]
  },
  {
   "cell_type": "code",
   "execution_count": 12,
   "id": "e6deb665-37f8-4fcb-8690-725f8a6f7081",
   "metadata": {},
   "outputs": [
    {
     "data": {
      "text/plain": [
       "Array([[[ 0,  1,  2,  3],\n",
       "        [ 4,  5,  6,  7],\n",
       "        [ 8,  9, 10, 11]],\n",
       "\n",
       "       [[12, 13, 14, 15],\n",
       "        [16, 17, 18, 19],\n",
       "        [20, 21, 22, 23]]], dtype=int32)"
      ]
     },
     "execution_count": 12,
     "metadata": {},
     "output_type": "execute_result"
    }
   ],
   "source": [
    "jnp.arange(24).reshape(2,3,4)"
   ]
  },
  {
   "cell_type": "markdown",
   "id": "0432c16f-3e36-44d9-8045-7351630656e8",
   "metadata": {},
   "source": [
    "## Basic Properties of Tensor Arithmetic"
   ]
  },
  {
   "cell_type": "code",
   "execution_count": 13,
   "id": "d07045a0-7f44-45dc-836a-4cc7c6679072",
   "metadata": {},
   "outputs": [
    {
     "data": {
      "text/plain": [
       "(Array([[0., 1., 2.],\n",
       "        [3., 4., 5.]], dtype=float32),\n",
       " Array([[ 0.,  2.,  4.],\n",
       "        [ 6.,  8., 10.]], dtype=float32))"
      ]
     },
     "execution_count": 13,
     "metadata": {},
     "output_type": "execute_result"
    }
   ],
   "source": [
    "A = jnp.arange(6, dtype=jnp.float32).reshape(2,3)\n",
    "B = A\n",
    "A, A+B"
   ]
  },
  {
   "cell_type": "code",
   "execution_count": 14,
   "id": "5cd0c433-af66-4e39-8fd0-b0ae6cabf758",
   "metadata": {},
   "outputs": [
    {
     "data": {
      "text/plain": [
       "Array([[ 0.,  1.,  4.],\n",
       "       [ 9., 16., 25.]], dtype=float32)"
      ]
     },
     "execution_count": 14,
     "metadata": {},
     "output_type": "execute_result"
    }
   ],
   "source": [
    "A * B"
   ]
  },
  {
   "cell_type": "code",
   "execution_count": 15,
   "id": "ed79dafa-1016-43e1-a3ed-7c7bf084019d",
   "metadata": {},
   "outputs": [
    {
     "data": {
      "text/plain": [
       "(Array([[[ 2,  3,  4,  5],\n",
       "         [ 6,  7,  8,  9],\n",
       "         [10, 11, 12, 13]],\n",
       " \n",
       "        [[14, 15, 16, 17],\n",
       "         [18, 19, 20, 21],\n",
       "         [22, 23, 24, 25]]], dtype=int32),\n",
       " (2, 3, 4))"
      ]
     },
     "execution_count": 15,
     "metadata": {},
     "output_type": "execute_result"
    }
   ],
   "source": [
    "a = 2\n",
    "X = jnp.arange(24).reshape(2,3,4)\n",
    "a+X, (a*X).shape"
   ]
  },
  {
   "cell_type": "markdown",
   "id": "fe0f8186-93ae-4a2a-8abd-b9799e47f532",
   "metadata": {},
   "source": [
    "## Tensor reduction"
   ]
  },
  {
   "cell_type": "code",
   "execution_count": 16,
   "id": "8cfd13b5-f2da-46ad-a654-d0814c3d4cf3",
   "metadata": {},
   "outputs": [
    {
     "data": {
      "text/plain": [
       "(Array([0., 1., 2.], dtype=float32), Array(3., dtype=float32))"
      ]
     },
     "execution_count": 16,
     "metadata": {},
     "output_type": "execute_result"
    }
   ],
   "source": [
    "x = jnp.arange(3, dtype=jnp.float32)\n",
    "x, x.sum()"
   ]
  },
  {
   "cell_type": "code",
   "execution_count": 17,
   "id": "5374e0d0-4dd3-41c3-b708-a0e45d87e78c",
   "metadata": {},
   "outputs": [
    {
     "data": {
      "text/plain": [
       "((2, 3), Array(15., dtype=float32))"
      ]
     },
     "execution_count": 17,
     "metadata": {},
     "output_type": "execute_result"
    }
   ],
   "source": [
    "A.shape, A.sum()"
   ]
  },
  {
   "cell_type": "code",
   "execution_count": 18,
   "id": "027fa95c-ef0f-49f0-8d1a-e870477156f0",
   "metadata": {},
   "outputs": [
    {
     "data": {
      "text/plain": [
       "((2, 3), (3,))"
      ]
     },
     "execution_count": 18,
     "metadata": {},
     "output_type": "execute_result"
    }
   ],
   "source": [
    "A.shape, A.sum(axis=0).shape"
   ]
  },
  {
   "cell_type": "code",
   "execution_count": 19,
   "id": "9f58d645-cee0-4d9f-b484-4696f1e0016a",
   "metadata": {},
   "outputs": [
    {
     "data": {
      "text/plain": [
       "((2, 3), (2,))"
      ]
     },
     "execution_count": 19,
     "metadata": {},
     "output_type": "execute_result"
    }
   ],
   "source": [
    "A.shape, A.sum(axis=1).shape"
   ]
  },
  {
   "cell_type": "code",
   "execution_count": 20,
   "id": "e1c8650b-e5ec-4ef0-8c70-daf21cf1ab8d",
   "metadata": {},
   "outputs": [
    {
     "data": {
      "text/plain": [
       "Array(True, dtype=bool)"
      ]
     },
     "execution_count": 20,
     "metadata": {},
     "output_type": "execute_result"
    }
   ],
   "source": [
    "A.sum(axis=[0,1]) == A.sum()"
   ]
  },
  {
   "cell_type": "code",
   "execution_count": 21,
   "id": "6f1ff377-3d50-4c53-83d7-de88b8cb4dd8",
   "metadata": {},
   "outputs": [
    {
     "data": {
      "text/plain": [
       "(Array(2.5, dtype=float32), Array(2.5, dtype=float32))"
      ]
     },
     "execution_count": 21,
     "metadata": {},
     "output_type": "execute_result"
    }
   ],
   "source": [
    "A.mean(), A.sum() / A.size"
   ]
  },
  {
   "cell_type": "code",
   "execution_count": 22,
   "id": "46939a58-1f48-4cea-8dd9-48ebc1f38058",
   "metadata": {},
   "outputs": [
    {
     "data": {
      "text/plain": [
       "(Array([1.5, 2.5, 3.5], dtype=float32), Array([1.5, 2.5, 3.5], dtype=float32))"
      ]
     },
     "execution_count": 22,
     "metadata": {},
     "output_type": "execute_result"
    }
   ],
   "source": [
    "A.mean(axis=0), A.sum(axis=0) / A.shape[0]"
   ]
  },
  {
   "cell_type": "markdown",
   "id": "598d4ca1-94fa-49d8-8d38-4ef252c20ef7",
   "metadata": {},
   "source": [
    "## Non-reduction Sum"
   ]
  },
  {
   "cell_type": "code",
   "execution_count": 23,
   "id": "7e868e7e-8962-4dad-9b18-ec6544f806ba",
   "metadata": {},
   "outputs": [
    {
     "data": {
      "text/plain": [
       "(Array([[ 3.],\n",
       "        [12.]], dtype=float32),\n",
       " (2, 1))"
      ]
     },
     "execution_count": 23,
     "metadata": {},
     "output_type": "execute_result"
    }
   ],
   "source": [
    "sum_A = A.sum(axis=1, keepdims=True)\n",
    "sum_A, sum_A.shape"
   ]
  },
  {
   "cell_type": "code",
   "execution_count": 24,
   "id": "4ccf3b56-7f76-4847-bb7c-57af2f7fbe6a",
   "metadata": {},
   "outputs": [
    {
     "data": {
      "text/plain": [
       "Array([[0.        , 0.33333334, 0.6666667 ],\n",
       "       [0.25      , 0.33333334, 0.4166667 ]], dtype=float32)"
      ]
     },
     "execution_count": 24,
     "metadata": {},
     "output_type": "execute_result"
    }
   ],
   "source": [
    "A / sum_A"
   ]
  },
  {
   "cell_type": "code",
   "execution_count": 25,
   "id": "f34e0d50-8148-4171-82a7-8155a3da1db5",
   "metadata": {},
   "outputs": [
    {
     "data": {
      "text/plain": [
       "(Array([[0., 1., 2.],\n",
       "        [3., 5., 7.]], dtype=float32),\n",
       " Array([[0., 1., 2.],\n",
       "        [3., 4., 5.]], dtype=float32))"
      ]
     },
     "execution_count": 25,
     "metadata": {},
     "output_type": "execute_result"
    }
   ],
   "source": [
    "A.cumsum(axis=0), A"
   ]
  },
  {
   "cell_type": "markdown",
   "id": "e83e1c4b-c431-4340-9121-abf51f479394",
   "metadata": {},
   "source": [
    "## Dot Products"
   ]
  },
  {
   "cell_type": "code",
   "execution_count": 26,
   "id": "538646d4-c954-4db6-bea2-2d59fe42ab08",
   "metadata": {},
   "outputs": [
    {
     "data": {
      "text/plain": [
       "(Array([0., 1., 2.], dtype=float32),\n",
       " Array([1., 1., 1.], dtype=float32),\n",
       " Array(3., dtype=float32))"
      ]
     },
     "execution_count": 26,
     "metadata": {},
     "output_type": "execute_result"
    }
   ],
   "source": [
    "y = jnp.ones(3, dtype=jnp.float32)\n",
    "x, y, jnp.dot(x, y)"
   ]
  },
  {
   "cell_type": "code",
   "execution_count": 27,
   "id": "8ec9e14e-1c38-4bdf-8467-8bd453610f41",
   "metadata": {},
   "outputs": [
    {
     "data": {
      "text/plain": [
       "Array(3., dtype=float32)"
      ]
     },
     "execution_count": 27,
     "metadata": {},
     "output_type": "execute_result"
    }
   ],
   "source": [
    "jnp.sum(x * y)"
   ]
  },
  {
   "cell_type": "markdown",
   "id": "fa65f86b-e152-4595-ba33-ac23074c342f",
   "metadata": {},
   "source": [
    "## Matrix Vector Products"
   ]
  },
  {
   "cell_type": "code",
   "execution_count": 28,
   "id": "aadc5448-533d-44ba-a02e-ca59ccfe3d8a",
   "metadata": {},
   "outputs": [
    {
     "data": {
      "text/plain": [
       "((2, 3), (3,), Array([ 5., 14.], dtype=float32))"
      ]
     },
     "execution_count": 28,
     "metadata": {},
     "output_type": "execute_result"
    }
   ],
   "source": [
    "A.shape, x.shape, jnp.matmul(A, x)"
   ]
  },
  {
   "cell_type": "markdown",
   "id": "d2d0e819-0124-478a-982d-a1480e7e7d0b",
   "metadata": {},
   "source": [
    "## Matrix-Matrix Multiplication"
   ]
  },
  {
   "cell_type": "code",
   "execution_count": 29,
   "id": "e1095083-9436-4553-adce-80236cbc428d",
   "metadata": {},
   "outputs": [],
   "source": [
    "B = jnp.ones((3,4))"
   ]
  },
  {
   "cell_type": "code",
   "execution_count": 30,
   "id": "b1af0607-62c6-4f75-93e8-4e6f0cf34212",
   "metadata": {},
   "outputs": [
    {
     "data": {
      "text/plain": [
       "Array([[ 3.,  3.,  3.,  3.],\n",
       "       [12., 12., 12., 12.]], dtype=float32)"
      ]
     },
     "execution_count": 30,
     "metadata": {},
     "output_type": "execute_result"
    }
   ],
   "source": [
    "jnp.matmul(A, B)"
   ]
  },
  {
   "cell_type": "markdown",
   "id": "b16e2d54-403a-4d3f-b36f-86139c7f5509",
   "metadata": {},
   "source": [
    "## Norms"
   ]
  },
  {
   "cell_type": "code",
   "execution_count": 31,
   "id": "4e523e77-60e1-4179-812a-e6e193d2949a",
   "metadata": {},
   "outputs": [
    {
     "data": {
      "text/plain": [
       "(Array(5., dtype=float32), Array(5., dtype=float32))"
      ]
     },
     "execution_count": 31,
     "metadata": {},
     "output_type": "execute_result"
    }
   ],
   "source": [
    "u = jnp.array([3.0,-4.0])\n",
    "jnp.linalg.norm(u), jnp.sqrt((u*u).sum())"
   ]
  },
  {
   "cell_type": "code",
   "execution_count": 32,
   "id": "b9f990c6-71ed-4403-9dac-04bbdbcb0fd8",
   "metadata": {},
   "outputs": [
    {
     "data": {
      "text/plain": [
       "(Array(7., dtype=float32), Array(7., dtype=float32))"
      ]
     },
     "execution_count": 32,
     "metadata": {},
     "output_type": "execute_result"
    }
   ],
   "source": [
    "jnp.linalg.norm(u, ord=1), jnp.abs(u).sum()"
   ]
  },
  {
   "cell_type": "code",
   "execution_count": 34,
   "id": "75ce77fa-9f5c-4486-965d-d5fdb023dbaa",
   "metadata": {},
   "outputs": [
    {
     "data": {
      "text/plain": [
       "Array(6., dtype=float32)"
      ]
     },
     "execution_count": 34,
     "metadata": {},
     "output_type": "execute_result"
    }
   ],
   "source": [
    "jnp.linalg.norm(jnp.ones((4,9)))"
   ]
  },
  {
   "cell_type": "code",
   "execution_count": null,
   "id": "51a32208-f452-4934-931a-5cc1388adaea",
   "metadata": {},
   "outputs": [],
   "source": []
  }
 ],
 "metadata": {
  "kernelspec": {
   "display_name": "Python 3 (ipykernel)",
   "language": "python",
   "name": "python3"
  },
  "language_info": {
   "codemirror_mode": {
    "name": "ipython",
    "version": 3
   },
   "file_extension": ".py",
   "mimetype": "text/x-python",
   "name": "python",
   "nbconvert_exporter": "python",
   "pygments_lexer": "ipython3",
   "version": "3.12.5"
  }
 },
 "nbformat": 4,
 "nbformat_minor": 5
}
