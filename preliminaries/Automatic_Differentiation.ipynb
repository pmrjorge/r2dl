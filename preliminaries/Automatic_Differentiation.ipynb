{
 "cells": [
  {
   "cell_type": "code",
   "execution_count": 1,
   "id": "31e44f98-b7b8-4f11-b0a4-a7826d830bd7",
   "metadata": {},
   "outputs": [],
   "source": [
    "from jax import numpy as jnp"
   ]
  },
  {
   "cell_type": "markdown",
   "id": "3854006b-fb41-4a51-bbdc-5a24074b4af5",
   "metadata": {},
   "source": [
    "## A Simple Function"
   ]
  },
  {
   "cell_type": "code",
   "execution_count": 2,
   "id": "82e47413-be6f-4f83-b5f7-592d5d1cc196",
   "metadata": {},
   "outputs": [
    {
     "data": {
      "text/plain": [
       "Array([0., 1., 2., 3.], dtype=float32)"
      ]
     },
     "execution_count": 2,
     "metadata": {},
     "output_type": "execute_result"
    }
   ],
   "source": [
    "x = jnp.arange(4.0)\n",
    "x"
   ]
  },
  {
   "cell_type": "code",
   "execution_count": 3,
   "id": "a42bc8ac-8dc9-4cf6-924a-7fa84db59ca5",
   "metadata": {},
   "outputs": [],
   "source": [
    "y = lambda x: 2 * jnp.dot(x,x)"
   ]
  },
  {
   "cell_type": "code",
   "execution_count": 4,
   "id": "84dc2305-608b-4a81-8b7a-0ee090aba669",
   "metadata": {},
   "outputs": [
    {
     "data": {
      "text/plain": [
       "Array(28., dtype=float32)"
      ]
     },
     "execution_count": 4,
     "metadata": {},
     "output_type": "execute_result"
    }
   ],
   "source": [
    "y(x)"
   ]
  },
  {
   "cell_type": "code",
   "execution_count": 5,
   "id": "dcca64be-9092-4593-8737-e75774f5bb1a",
   "metadata": {},
   "outputs": [],
   "source": [
    "from jax import grad"
   ]
  },
  {
   "cell_type": "code",
   "execution_count": 6,
   "id": "eafbb720-ed7c-4283-8694-529ba0d46e53",
   "metadata": {},
   "outputs": [],
   "source": [
    "x_grad = grad(y)(x)"
   ]
  },
  {
   "cell_type": "code",
   "execution_count": 7,
   "id": "8cb7bc8a-53cd-4f54-a4ad-a158faac6a66",
   "metadata": {},
   "outputs": [
    {
     "data": {
      "text/plain": [
       "Array([ 0.,  4.,  8., 12.], dtype=float32)"
      ]
     },
     "execution_count": 7,
     "metadata": {},
     "output_type": "execute_result"
    }
   ],
   "source": [
    "x_grad"
   ]
  },
  {
   "cell_type": "code",
   "execution_count": 8,
   "id": "c0db7fa5-1cef-4d91-acf5-d937d7747ed8",
   "metadata": {},
   "outputs": [
    {
     "data": {
      "text/plain": [
       "Array([ True,  True,  True,  True], dtype=bool)"
      ]
     },
     "execution_count": 8,
     "metadata": {},
     "output_type": "execute_result"
    }
   ],
   "source": [
    "x_grad == 4 * x"
   ]
  },
  {
   "cell_type": "code",
   "execution_count": 9,
   "id": "869c661d-6aff-4bb0-910c-48afe4088b1a",
   "metadata": {},
   "outputs": [
    {
     "data": {
      "text/plain": [
       "Array([1., 1., 1., 1.], dtype=float32)"
      ]
     },
     "execution_count": 9,
     "metadata": {},
     "output_type": "execute_result"
    }
   ],
   "source": [
    "y = lambda x: x.sum()\n",
    "grad(y)(x)"
   ]
  },
  {
   "cell_type": "markdown",
   "id": "485d2358-5093-494d-984b-190915d3a415",
   "metadata": {},
   "source": [
    "## Backward for Non-scalar Variables"
   ]
  },
  {
   "cell_type": "code",
   "execution_count": 10,
   "id": "5824f5df-1f4e-4b9b-b0aa-82bb579b824c",
   "metadata": {},
   "outputs": [],
   "source": [
    "y = lambda x: x*x"
   ]
  },
  {
   "cell_type": "code",
   "execution_count": 11,
   "id": "b7f47136-bfbe-4269-9dc1-ece9490975d8",
   "metadata": {},
   "outputs": [
    {
     "data": {
      "text/plain": [
       "Array([0., 2., 4., 6.], dtype=float32)"
      ]
     },
     "execution_count": 11,
     "metadata": {},
     "output_type": "execute_result"
    }
   ],
   "source": [
    "grad(lambda x: y(x).sum())(x)"
   ]
  },
  {
   "cell_type": "markdown",
   "id": "d5d79f15-0870-465b-a1d9-3957c76e93ca",
   "metadata": {},
   "source": [
    "## Detaching Computation"
   ]
  },
  {
   "cell_type": "code",
   "execution_count": 12,
   "id": "5fbb0d47-cc26-4de7-89cb-197e4539c351",
   "metadata": {},
   "outputs": [],
   "source": [
    "import jax"
   ]
  },
  {
   "cell_type": "code",
   "execution_count": 13,
   "id": "cd1e65bb-c081-4293-9df6-e32c6d05c3f4",
   "metadata": {},
   "outputs": [],
   "source": [
    "y = lambda x: x*x"
   ]
  },
  {
   "cell_type": "code",
   "execution_count": 15,
   "id": "21f72575-589d-4ea4-aac1-1b654072c98d",
   "metadata": {},
   "outputs": [
    {
     "data": {
      "text/plain": [
       "Array([ True,  True,  True,  True], dtype=bool)"
      ]
     },
     "execution_count": 15,
     "metadata": {},
     "output_type": "execute_result"
    }
   ],
   "source": [
    "u = jax.lax.stop_gradient(y(x))\n",
    "z = lambda x: u * x\n",
    "\n",
    "grad(lambda x: z(x).sum())(x) == y(x)"
   ]
  },
  {
   "cell_type": "markdown",
   "id": "96874861-1969-45c1-a677-d71834bd0aad",
   "metadata": {},
   "source": [
    "## Gradients and Python Control Flow"
   ]
  },
  {
   "cell_type": "code",
   "execution_count": 16,
   "id": "29069b20-f890-4888-a793-06beb8f6b076",
   "metadata": {},
   "outputs": [],
   "source": [
    "def f(a):\n",
    "    b = a*2\n",
    "    while jnp.linalg.norm(b) < 1000:\n",
    "        b = b * 2\n",
    "    if b.sum() > 0:\n",
    "        c = b\n",
    "    else:\n",
    "        c = 100*b\n",
    "    return c        "
   ]
  },
  {
   "cell_type": "code",
   "execution_count": 17,
   "id": "0b85f832-6dcb-43e4-a1a0-1b3304a6da47",
   "metadata": {},
   "outputs": [],
   "source": [
    "from jax import random"
   ]
  },
  {
   "cell_type": "code",
   "execution_count": 18,
   "id": "b869b817-5953-4dd0-8b4a-91e479b5051a",
   "metadata": {},
   "outputs": [],
   "source": [
    "a = random.normal(random.PRNGKey(1), ())"
   ]
  },
  {
   "cell_type": "code",
   "execution_count": 19,
   "id": "884f1e96-0f8f-4d81-9f91-6fcc891b2420",
   "metadata": {},
   "outputs": [
    {
     "data": {
      "text/plain": [
       "Array(True, dtype=bool)"
      ]
     },
     "execution_count": 19,
     "metadata": {},
     "output_type": "execute_result"
    }
   ],
   "source": [
    "d = f(a)\n",
    "d_grad = grad(f)(a)\n",
    "\n",
    "d_grad == d / a"
   ]
  },
  {
   "cell_type": "code",
   "execution_count": null,
   "id": "b0f3fa94-1b16-42df-b097-82dcdefc04ec",
   "metadata": {},
   "outputs": [],
   "source": []
  }
 ],
 "metadata": {
  "kernelspec": {
   "display_name": "Python 3 (ipykernel)",
   "language": "python",
   "name": "python3"
  },
  "language_info": {
   "codemirror_mode": {
    "name": "ipython",
    "version": 3
   },
   "file_extension": ".py",
   "mimetype": "text/x-python",
   "name": "python",
   "nbconvert_exporter": "python",
   "pygments_lexer": "ipython3",
   "version": "3.12.5"
  }
 },
 "nbformat": 4,
 "nbformat_minor": 5
}
